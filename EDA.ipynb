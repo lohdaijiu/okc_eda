{
 "cells": [
  {
   "cell_type": "markdown",
   "id": "47744a19-d766-4102-acf3-29b249788b90",
   "metadata": {},
   "source": [
    "https://www.reddit.com/r/askSingapore/comments/vlystj/what_are_dating_profiles_that_get_an_instant/"
   ]
  },
  {
   "cell_type": "code",
   "execution_count": 1,
   "id": "1afc440f-0258-4652-baa5-ce60b8b2ac7a",
   "metadata": {},
   "outputs": [],
   "source": [
    "import pandas as pd\n",
    "import matplotlib.pyplot as plt\n",
    "import seaborn as sns\n",
    "import numpy as np"
   ]
  },
  {
   "cell_type": "code",
   "execution_count": 2,
   "id": "e02647c5-60fb-4923-a846-3280c20605b8",
   "metadata": {},
   "outputs": [],
   "source": [
    "df_female = pd.read_csv('okc_female.csv')\n",
    "df_male = pd.read_csv('okc_male.csv')"
   ]
  },
  {
   "cell_type": "code",
   "execution_count": 3,
   "id": "5d823370-335c-458d-9772-4cd041969401",
   "metadata": {},
   "outputs": [
    {
     "data": {
      "text/plain": [
       "<bound method NDFrame.head of       Unnamed: 0        name age  \\\n",
       "0              0   Christine  23   \n",
       "1              1      Sheryl  23   \n",
       "2              2       shuen  20   \n",
       "3              3        Jazz  18   \n",
       "4              4     Melanie  20   \n",
       "...          ...         ...  ..   \n",
       "9977        9977  Tiffany Ho  22   \n",
       "9978        9978        Moka  23   \n",
       "9979        9979        Jash  18   \n",
       "9980        9980       Azlin  24   \n",
       "9981        9981    Nathalia  27   \n",
       "\n",
       "                                           self_summary  New Friends  \\\n",
       "0                                Live fast, live young.         True   \n",
       "1     Easy-going and spontaneous. Hmu and let’s see ...         True   \n",
       "2                                just for fun @leshuenn         True   \n",
       "3                                 Just wanna have fun 😏        False   \n",
       "4     doggo looking at u like a snacc🤪  i look tall ...         True   \n",
       "...                                                 ...          ...   \n",
       "9977  I am interested to do Hair fashion and Design ...         True   \n",
       "9978  Still have not gotten Covid. Praying I won't m...        False   \n",
       "9979                                                NaN         True   \n",
       "9980   A humble kampung girl, with just a hint of Kanye         True   \n",
       "9981                                     LOVE YOUR SELF         True   \n",
       "\n",
       "      Short-term dating  Long-term dating  Hookups  \n",
       "0                  True              True    False  \n",
       "1                  True              True    False  \n",
       "2                  True              True    False  \n",
       "3                 False             False    False  \n",
       "4                  True              True     True  \n",
       "...                 ...               ...      ...  \n",
       "9977               True              True    False  \n",
       "9978              False              True    False  \n",
       "9979               True              True     True  \n",
       "9980               True              True    False  \n",
       "9981               True              True     True  \n",
       "\n",
       "[9982 rows x 8 columns]>"
      ]
     },
     "execution_count": 3,
     "metadata": {},
     "output_type": "execute_result"
    }
   ],
   "source": [
    "df_male.head\n",
    "df_female.head"
   ]
  },
  {
   "cell_type": "code",
   "execution_count": 4,
   "id": "a2816b0a-a302-4059-8aee-8af3cc601501",
   "metadata": {},
   "outputs": [
    {
     "data": {
      "text/plain": [
       "Index(['Unnamed: 0', 'name', 'age', 'self_summary', 'New Friends',\n",
       "       'Short-term dating', 'Long-term dating', 'Hookups'],\n",
       "      dtype='object')"
      ]
     },
     "execution_count": 4,
     "metadata": {},
     "output_type": "execute_result"
    }
   ],
   "source": [
    "df_male.columns\n",
    "df_female.columns"
   ]
  },
  {
   "cell_type": "code",
   "execution_count": 5,
   "id": "5d1714cd-f300-4a70-8677-b904b7b8539a",
   "metadata": {},
   "outputs": [
    {
     "data": {
      "text/html": [
       "<div>\n",
       "<style scoped>\n",
       "    .dataframe tbody tr th:only-of-type {\n",
       "        vertical-align: middle;\n",
       "    }\n",
       "\n",
       "    .dataframe tbody tr th {\n",
       "        vertical-align: top;\n",
       "    }\n",
       "\n",
       "    .dataframe thead th {\n",
       "        text-align: right;\n",
       "    }\n",
       "</style>\n",
       "<table border=\"1\" class=\"dataframe\">\n",
       "  <thead>\n",
       "    <tr style=\"text-align: right;\">\n",
       "      <th></th>\n",
       "      <th>Wants</th>\n",
       "      <th>Do not want</th>\n",
       "      <th>Percentage wants</th>\n",
       "    </tr>\n",
       "  </thead>\n",
       "  <tbody>\n",
       "    <tr>\n",
       "      <th>Short-term dating</th>\n",
       "      <td>7089</td>\n",
       "      <td>2887</td>\n",
       "      <td>71.060545</td>\n",
       "    </tr>\n",
       "    <tr>\n",
       "      <th>Long-term dating</th>\n",
       "      <td>7702</td>\n",
       "      <td>2274</td>\n",
       "      <td>77.205293</td>\n",
       "    </tr>\n",
       "    <tr>\n",
       "      <th>New Friends</th>\n",
       "      <td>7667</td>\n",
       "      <td>2309</td>\n",
       "      <td>76.854451</td>\n",
       "    </tr>\n",
       "    <tr>\n",
       "      <th>Hookups</th>\n",
       "      <td>4949</td>\n",
       "      <td>5027</td>\n",
       "      <td>49.609062</td>\n",
       "    </tr>\n",
       "  </tbody>\n",
       "</table>\n",
       "</div>"
      ],
      "text/plain": [
       "                   Wants  Do not want  Percentage wants\n",
       "Short-term dating   7089         2887         71.060545\n",
       "Long-term dating    7702         2274         77.205293\n",
       "New Friends         7667         2309         76.854451\n",
       "Hookups             4949         5027         49.609062"
      ]
     },
     "execution_count": 5,
     "metadata": {},
     "output_type": "execute_result"
    }
   ],
   "source": [
    "rs = ['Short-term dating', 'Long-term dating', 'New Friends', 'Hookups']\n",
    "data_male_rs = []\n",
    "\n",
    "for i in rs:\n",
    "    \n",
    "    numOfTrue = df_male[i].value_counts()[True]\n",
    "    numOfFalse = df_male[i].value_counts()[False]\n",
    "    percentageOfTrue = numOfTrue/(numOfFalse+numOfTrue) *100\n",
    "    \n",
    "    data = {\"Wants\":numOfTrue , \"Do not want\": numOfFalse, \"Percentage wants\": percentageOfTrue}\n",
    "    \n",
    "    data_male_rs.append(data)\n",
    "    \n",
    "df_male_rs = pd.DataFrame(data_male_rs, index = rs)\n",
    "df_male_rs\n"
   ]
  },
  {
   "cell_type": "code",
   "execution_count": 6,
   "id": "dd425308-e7c9-49f5-9067-ff7ecadb8a58",
   "metadata": {},
   "outputs": [
    {
     "data": {
      "text/plain": [
       "<AxesSubplot:>"
      ]
     },
     "execution_count": 6,
     "metadata": {},
     "output_type": "execute_result"
    },
    {
     "data": {
      "image/png": "[encoded data removed]",
      "text/plain": [
       "<Figure size 432x288 with 1 Axes>"
      ]
     },
     "metadata": {
      "needs_background": "light"
     },
     "output_type": "display_data"
    }
   ],
   "source": [
    "no_percentage_male = df_male_rs.drop(columns = 'Percentage wants')\n",
    "no_percentage_male.plot(kind = \"bar\")"
   ]
  },
  {
   "cell_type": "code",
   "execution_count": 7,
   "id": "dfec896d-7b60-45a5-9c2d-dfe01b9f9c40",
   "metadata": {},
   "outputs": [
    {
     "data": {
      "text/html": [
       "<div>\n",
       "<style scoped>\n",
       "    .dataframe tbody tr th:only-of-type {\n",
       "        vertical-align: middle;\n",
       "    }\n",
       "\n",
       "    .dataframe tbody tr th {\n",
       "        vertical-align: top;\n",
       "    }\n",
       "\n",
       "    .dataframe thead th {\n",
       "        text-align: right;\n",
       "    }\n",
       "</style>\n",
       "<table border=\"1\" class=\"dataframe\">\n",
       "  <thead>\n",
       "    <tr style=\"text-align: right;\">\n",
       "      <th></th>\n",
       "      <th>Wants</th>\n",
       "      <th>Do not want</th>\n",
       "      <th>Percentage wants</th>\n",
       "    </tr>\n",
       "  </thead>\n",
       "  <tbody>\n",
       "    <tr>\n",
       "      <th>Short-term dating</th>\n",
       "      <td>4625</td>\n",
       "      <td>5357</td>\n",
       "      <td>46.333400</td>\n",
       "    </tr>\n",
       "    <tr>\n",
       "      <th>Long-term dating</th>\n",
       "      <td>7428</td>\n",
       "      <td>2554</td>\n",
       "      <td>74.413945</td>\n",
       "    </tr>\n",
       "    <tr>\n",
       "      <th>New Friends</th>\n",
       "      <td>8149</td>\n",
       "      <td>1833</td>\n",
       "      <td>81.636947</td>\n",
       "    </tr>\n",
       "    <tr>\n",
       "      <th>Hookups</th>\n",
       "      <td>766</td>\n",
       "      <td>9216</td>\n",
       "      <td>7.673813</td>\n",
       "    </tr>\n",
       "  </tbody>\n",
       "</table>\n",
       "</div>"
      ],
      "text/plain": [
       "                   Wants  Do not want  Percentage wants\n",
       "Short-term dating   4625         5357         46.333400\n",
       "Long-term dating    7428         2554         74.413945\n",
       "New Friends         8149         1833         81.636947\n",
       "Hookups              766         9216          7.673813"
      ]
     },
     "execution_count": 7,
     "metadata": {},
     "output_type": "execute_result"
    }
   ],
   "source": [
    "rs = ['Short-term dating', 'Long-term dating', 'New Friends', 'Hookups']\n",
    "data_female_rs = []\n",
    "\n",
    "for i in rs:\n",
    "    \n",
    "    numOfTrue = df_female[i].value_counts()[True]\n",
    "    numOfFalse = df_female[i].value_counts()[False]\n",
    "    percentageOfTrue = numOfTrue/(numOfFalse+numOfTrue) *100\n",
    "    \n",
    "    data = {\"Wants\":numOfTrue , \"Do not want\": numOfFalse, \"Percentage wants\": percentageOfTrue}\n",
    "    \n",
    "    data_female_rs.append(data)\n",
    "    \n",
    "df_female_rs = pd.DataFrame(data_female_rs, index = rs)\n",
    "df_female_rs"
   ]
  },
  {
   "cell_type": "code",
   "execution_count": 8,
   "id": "c32828d9-b1c9-4f99-b4f3-ff563a27043f",
   "metadata": {},
   "outputs": [
    {
     "data": {
      "text/plain": [
       "<AxesSubplot:>"
      ]
     },
     "execution_count": 8,
     "metadata": {},
     "output_type": "execute_result"
    },
    {
     "data": {
      "image/png": "[encoded data removed]",
      "text/plain": [
       "<Figure size 432x288 with 1 Axes>"
      ]
     },
     "metadata": {
      "needs_background": "light"
     },
     "output_type": "display_data"
    }
   ],
   "source": [
    "no_percentage_female = df_female_rs.drop(columns = 'Percentage wants')\n",
    "no_percentage_female.plot(kind = \"bar\")"
   ]
  },
  {
   "cell_type": "code",
   "execution_count": 9,
   "id": "03d8844c-5332-4d03-8ecb-bc233557d919",
   "metadata": {},
   "outputs": [
    {
     "data": {
      "image/png": "[encoded data removed]",
      "text/plain": [
       "<Figure size 432x288 with 1 Axes>"
      ]
     },
     "metadata": {
      "needs_background": "light"
     },
     "output_type": "display_data"
    }
   ],
   "source": [
    "df_female_cleaned = df_female[df_female['age'] != \"Si\"] #Remove invalid data\n",
    "age_female = df_female_cleaned.age.value_counts().sort_index()\n",
    "# print(age_female.index)\n",
    "chart = sns.barplot(x = age_female.index, y = age_female)\n",
    "plt.show()"
   ]
  },
  {
   "cell_type": "code",
   "execution_count": 10,
   "id": "bc5ec3e9-f2e2-4886-86cc-140affd0f061",
   "metadata": {},
   "outputs": [
    {
     "name": "stdout",
     "output_type": "stream",
     "text": [
      "Bar plot for females of different age groups\n"
     ]
    },
    {
     "data": {
      "image/png": "[encoded data removed]",
      "text/plain": [
       "<Figure size 432x288 with 1 Axes>"
      ]
     },
     "metadata": {
      "needs_background": "light"
     },
     "output_type": "display_data"
    }
   ],
   "source": [
    "print(\"Bar plot for females of different age groups\")\n",
    "\n",
    "chart_1 = sns.boxplot(y = age_female.index.astype('int64'), width=0.1)"
   ]
  },
  {
   "cell_type": "code",
   "execution_count": 11,
   "id": "79aaa6ed-c3bb-4d50-99fe-b6a80ce96303",
   "metadata": {},
   "outputs": [
    {
     "data": {
      "image/png": "[encoded data removed]",
      "text/plain": [
       "<Figure size 432x288 with 1 Axes>"
      ]
     },
     "metadata": {
      "needs_background": "light"
     },
     "output_type": "display_data"
    }
   ],
   "source": [
    "age_male = df_male.age.value_counts().sort_index()\n",
    "\n",
    "chart = sns.barplot(x = age_male.index, y = age_male)\n",
    "\n",
    "plt.show()"
   ]
  },
  {
   "cell_type": "code",
   "execution_count": 12,
   "id": "d2c6ec55-41ef-4177-a5cf-c4aa5e65f010",
   "metadata": {},
   "outputs": [
    {
     "name": "stdout",
     "output_type": "stream",
     "text": [
      "Bar plot for males of different age groups\n"
     ]
    },
    {
     "data": {
      "image/png": "[encoded data removed]",
      "text/plain": [
       "<Figure size 432x288 with 1 Axes>"
      ]
     },
     "metadata": {
      "needs_background": "light"
     },
     "output_type": "display_data"
    }
   ],
   "source": [
    "print(\"Bar plot for males of different age groups\")\n",
    "chart_2 = sns.boxplot(y = age_male.index, width=0.1)"
   ]
  },
  {
   "cell_type": "code",
   "execution_count": 13,
   "id": "b648f1be-2359-49cc-aba2-6ce7e2f8777b",
   "metadata": {},
   "outputs": [
    {
     "name": "stdout",
     "output_type": "stream",
     "text": [
      "There are 9222 self summary done by female.\n",
      "There are 760 self summary left blank by female.\n"
     ]
    }
   ],
   "source": [
    "numOfNullSummary_female = (df_female['self_summary'].isnull()).sum()\n",
    "numOfSelfSummary_female = len(df_female) - numOfNullSummary_female\n",
    "\n",
    "print(\"There are \" + str(numOfSelfSummary_female) + \" self summary done by female.\")\n",
    "print(\"There are \" + str(numOfNullSummary_female) + \" self summary left blank by female.\")"
   ]
  },
  {
   "cell_type": "code",
   "execution_count": 14,
   "id": "7f0d19c4-9c57-49af-9030-514cca611bf6",
   "metadata": {},
   "outputs": [
    {
     "name": "stdout",
     "output_type": "stream",
     "text": [
      "There are 9250 self summary done by male.\n",
      "There are 726 self summary left blank by male.\n"
     ]
    }
   ],
   "source": [
    "numOfNullSummary_male = (df_male['self_summary'].isnull()).sum()\n",
    "numOfSelfSummary_male = len(df_male) - numOfNullSummary_male\n",
    "\n",
    "print(\"There are \" + str(numOfSelfSummary_male) + \" self summary done by male.\")\n",
    "print(\"There are \" + str(numOfNullSummary_male) + \" self summary left blank by male.\")"
   ]
  },
  {
   "cell_type": "code",
   "execution_count": 15,
   "id": "f1e3bb9e-5063-44dd-b985-c5484206579b",
   "metadata": {},
   "outputs": [
    {
     "name": "stdout",
     "output_type": "stream",
     "text": [
      "Top 20 self summary by females\n"
     ]
    },
    {
     "data": {
      "text/plain": [
       "-              45\n",
       ".              44\n",
       "hi             42\n",
       "Hi             36\n",
       ":)             19\n",
       "Hello          14\n",
       "hello          13\n",
       "😊               8\n",
       "i like cats     6\n",
       "Nothing         6\n",
       "Hello!          5\n",
       "Friendly        5\n",
       "Hello :)        4\n",
       "hello!          4\n",
       "hii             4\n",
       "🤍               4\n",
       "…               4\n",
       "Idk             4\n",
       "Introvert       4\n",
       "Simple          4\n",
       "Name: self_summary, dtype: int64"
      ]
     },
     "execution_count": 15,
     "metadata": {},
     "output_type": "execute_result"
    }
   ],
   "source": [
    "print(\"Top 20 self summary by females\")\n",
    "df_female['self_summary'].value_counts()[:20]"
   ]
  },
  {
   "cell_type": "code",
   "execution_count": 16,
   "id": "b8f9b55d-ad5a-4a6b-be6d-9e73cc2ba248",
   "metadata": {},
   "outputs": [
    {
     "name": "stdout",
     "output_type": "stream",
     "text": [
      "Top 20 self summary by males\n"
     ]
    },
    {
     "data": {
      "text/plain": [
       ".               29\n",
       "hi              29\n",
       "Hi              26\n",
       "-               12\n",
       ":)              11\n",
       "Hello           11\n",
       "🇸🇬               7\n",
       "Hey              6\n",
       "Just for fun     5\n",
       "😊                4\n",
       "huh              4\n",
       "Yo               3\n",
       "180cm            3\n",
       "Helloo           3\n",
       "Hi!              3\n",
       "Hi there         3\n",
       "✌️               3\n",
       "Hola             3\n",
       ":D               3\n",
       "tired            3\n",
       "Name: self_summary, dtype: int64"
      ]
     },
     "execution_count": 16,
     "metadata": {},
     "output_type": "execute_result"
    }
   ],
   "source": [
    "print(\"Top 20 self summary by males\")\n",
    "\n",
    "df_male['self_summary'].value_counts()[:20]"
   ]
  },
  {
   "cell_type": "code",
   "execution_count": 23,
   "id": "efb80a8b-5400-42a4-8e58-0bacb1640709",
   "metadata": {},
   "outputs": [
    {
     "name": "stdout",
     "output_type": "stream",
     "text": [
      "100\n"
     ]
    }
   ],
   "source": [
    "def lowercase(x):\n",
    "    return x.lower()\n",
    "\n",
    "df_female_withSummary = df_female[df_female['self_summary'].notnull()]\n",
    "\n",
    "contain_values = df_female_withSummary[df_female_withSummary['self_summary'].apply(lowercase).str.contains('foodie')]\n",
    "print(len(contain_values))"
   ]
  },
  {
   "cell_type": "code",
   "execution_count": 68,
   "id": "7cfa88c3-fda3-4ea4-ab6a-a777c8c96ea9",
   "metadata": {},
   "outputs": [],
   "source": [
    "def f(x):\n",
    "    if type(x) != float:\n",
    "        return len(x)\n",
    "    else:\n",
    "        return 0\n",
    "\n",
    "df_female['length of self summary'] = df_female['self_summary'].str.split(\" \").apply(f)\n",
    "df_male['length of self summary'] = df_male['self_summary'].str.split(\" \").apply(f)"
   ]
  },
  {
   "cell_type": "code",
   "execution_count": 63,
   "id": "b8ff7703-6a4d-462a-8d84-cfa8d2fbbdec",
   "metadata": {},
   "outputs": [
    {
     "data": {
      "image/png": "[encoded data removed]",
      "text/plain": [
       "<Figure size 432x288 with 1 Axes>"
      ]
     },
     "metadata": {
      "needs_background": "light"
     },
     "output_type": "display_data"
    }
   ],
   "source": [
    "length_self_summary_female = df_female['length of self summary'].value_counts().sort_index()\n",
    "\n",
    "chart_2 = sns.barplot(x = length_self_summary_female.index[1:51], y = length_self_summary_female[1:51])\n",
    "\n",
    "plt.show()"
   ]
  },
  {
   "cell_type": "code",
   "execution_count": 69,
   "id": "fd5c3aae-25ab-4fdc-bee0-3f015a383a76",
   "metadata": {},
   "outputs": [
    {
     "data": {
      "image/png": "[encoded data removed]",
      "text/plain": [
       "<Figure size 432x288 with 1 Axes>"
      ]
     },
     "metadata": {
      "needs_background": "light"
     },
     "output_type": "display_data"
    }
   ],
   "source": [
    "length_self_summary_male = df_male['length of self summary'].value_counts().sort_index()\n",
    "\n",
    "chart_3 = sns.barplot(x = length_self_summary_male.index[1:51], y = length_self_summary_male[1:51])\n",
    "\n",
    "plt.show()"
   ]
  },
  {
   "cell_type": "code",
   "execution_count": null,
   "id": "43df04a0-2164-42be-8a94-88009697c158",
   "metadata": {},
   "outputs": [],
   "source": []
  }
 ],
 "metadata": {
  "kernelspec": {
   "display_name": "Python 3 (ipykernel)",
   "language": "python",
   "name": "python3"
  },
  "language_info": {
   "codemirror_mode": {
    "name": "ipython",
    "version": 3
   },
   "file_extension": ".py",
   "mimetype": "text/x-python",
   "name": "python",
   "nbconvert_exporter": "python",
   "pygments_lexer": "ipython3",
   "version": "3.9.7"
  }
 },
 "nbformat": 4,
 "nbformat_minor": 5
}
